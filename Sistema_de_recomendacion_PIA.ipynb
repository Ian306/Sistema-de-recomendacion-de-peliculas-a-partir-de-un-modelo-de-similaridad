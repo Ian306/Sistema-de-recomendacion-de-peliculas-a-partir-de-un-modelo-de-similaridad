{
  "nbformat": 4,
  "nbformat_minor": 0,
  "metadata": {
    "colab": {
      "name": "Sistema de recomendacion PIA.ipynb",
      "provenance": [],
      "collapsed_sections": []
    },
    "kernelspec": {
      "name": "python3",
      "display_name": "Python 3"
    },
    "language_info": {
      "name": "python"
    },
    "accelerator": "GPU"
  },
  "cells": [
    {
      "cell_type": "markdown",
      "metadata": {
        "id": "eOcs49yaJdXD"
      },
      "source": [
        "# Introducción al Aprendizaje Automático &nbsp;&nbsp;&nbsp;&nbsp;&nbsp;&nbsp; &nbsp;&nbsp;&nbsp;&nbsp;&nbsp;&nbsp; &nbsp;&nbsp;&nbsp;&nbsp;&nbsp;&nbsp; &nbsp;&nbsp;&nbsp;&nbsp;&nbsp;&nbsp; &nbsp;&nbsp;&nbsp;&nbsp;&nbsp;&nbsp; &nbsp;&nbsp;&nbsp;&nbsp;&nbsp;&nbsp; &nbsp;&nbsp;&nbsp;&nbsp;&nbsp;&nbsp; &nbsp;&nbsp;&nbsp;&nbsp;&nbsp; UANL - FCFM\n",
        "---\n",
        "## Sistema de recomendacion de peliculas a partir de un modelo de similaridad\n",
        "\n",
        "**Alumnos**\n",
        "- Ian Mauricio Saucedo Alemán &nbsp;&nbsp;&nbsp;&nbsp;&nbsp;&nbsp;&nbsp;&nbsp;&nbsp;&nbsp;&nbsp;&nbsp; 1868954\n",
        "- Jared Evander Fuentes Sánchez &nbsp;&nbsp;&nbsp;&nbsp;&nbsp;&nbsp;&nbsp;&nbsp;&nbsp;&nbsp;1868002\n",
        "- Vicente Garza Reyna\t&nbsp;&nbsp;&nbsp;&nbsp;&nbsp;&nbsp;&nbsp;&nbsp;&nbsp;&nbsp;&nbsp;&nbsp;&nbsp;&nbsp;&nbsp;&nbsp;&nbsp;&nbsp;&nbsp;&nbsp;&nbsp;&nbsp;&nbsp;&nbsp;&nbsp;&nbsp;&nbsp;&nbsp;&nbsp;&nbsp;1847176\n",
        "- Eduardo Alan Hernandez Villasana &nbsp;&nbsp;&nbsp;&nbsp;&nbsp;1941416\n",
        "- Sebastián Terrazas Santillana &nbsp;&nbsp;&nbsp;&nbsp;&nbsp;&nbsp;&nbsp;&nbsp;&nbsp;&nbsp;&nbsp;&nbsp;&nbsp;&nbsp;1847317"
      ]
    },
    {
      "cell_type": "markdown",
      "metadata": {
        "id": "qXHNiPAcJ5b8"
      },
      "source": [
        "### Lectura y formato de datos"
      ]
    },
    {
      "cell_type": "markdown",
      "metadata": {
        "id": "14RunyiYLA9e"
      },
      "source": [
        "Importamos las librerias principales a utilizar, y la conexion a drive por cuestion de facilidad al momento de acceder a los datos"
      ]
    },
    {
      "cell_type": "code",
      "metadata": {
        "id": "aBverRuiXO-_"
      },
      "source": [
        "import pandas as pd \n",
        "import numpy as np\n",
        "from sklearn.feature_extraction.text import CountVectorizer\n",
        "from sklearn.metrics.pairwise import cosine_similarity\n",
        "\n",
        "PATH_DATASETS = '/content/drive/MyDrive/PIA_Datasets/API Datasets/'"
      ],
      "execution_count": null,
      "outputs": []
    },
    {
      "cell_type": "code",
      "metadata": {
        "id": "14oDFxCTXuVV"
      },
      "source": [
        "movie_data_df = pd.read_csv(PATH_DATASETS + 'movie_data.csv')\n",
        "movie_50k_df = pd.read_csv(PATH_DATASETS + 'most_50k_popular.csv')\n",
        "cast_df = pd.read_csv(PATH_DATASETS + 'cast.csv')\n",
        "directors_df = pd.read_csv(PATH_DATASETS + 'directors.csv')\n",
        "credits_df = pd.read_csv(PATH_DATASETS + 'movie_credits.csv')\n",
        "genres_df = pd.read_csv(PATH_DATASETS + 'genres.csv')"
      ],
      "execution_count": null,
      "outputs": []
    },
    {
      "cell_type": "markdown",
      "metadata": {
        "id": "VljBWTSdLsVD"
      },
      "source": [
        "Estructura de nuestro dataset principal"
      ]
    },
    {
      "cell_type": "code",
      "metadata": {
        "colab": {
          "base_uri": "https://localhost:8080/"
        },
        "id": "ygs2_zL6ZOZS",
        "outputId": "a199bc8a-8d40-4c2c-c795-0d37da550757"
      },
      "source": [
        "movie_50k_df.shape"
      ],
      "execution_count": null,
      "outputs": [
        {
          "output_type": "execute_result",
          "data": {
            "text/plain": [
              "(50000, 6)"
            ]
          },
          "metadata": {},
          "execution_count": 6
        }
      ]
    },
    {
      "cell_type": "code",
      "metadata": {
        "colab": {
          "base_uri": "https://localhost:8080/",
          "height": 206
        },
        "id": "Vmml8hUBaMsq",
        "outputId": "1c04b473-7f81-4455-8bab-5a4244974104"
      },
      "source": [
        "movie_50k_df.head()"
      ],
      "execution_count": null,
      "outputs": [
        {
          "output_type": "execute_result",
          "data": {
            "text/html": [
              "<div>\n",
              "<style scoped>\n",
              "    .dataframe tbody tr th:only-of-type {\n",
              "        vertical-align: middle;\n",
              "    }\n",
              "\n",
              "    .dataframe tbody tr th {\n",
              "        vertical-align: top;\n",
              "    }\n",
              "\n",
              "    .dataframe thead th {\n",
              "        text-align: right;\n",
              "    }\n",
              "</style>\n",
              "<table border=\"1\" class=\"dataframe\">\n",
              "  <thead>\n",
              "    <tr style=\"text-align: right;\">\n",
              "      <th></th>\n",
              "      <th>Unnamed: 0</th>\n",
              "      <th>Id</th>\n",
              "      <th>Name</th>\n",
              "      <th>Year</th>\n",
              "      <th>Popularity</th>\n",
              "      <th>Genres</th>\n",
              "    </tr>\n",
              "  </thead>\n",
              "  <tbody>\n",
              "    <tr>\n",
              "      <th>0</th>\n",
              "      <td>304032</td>\n",
              "      <td>566525</td>\n",
              "      <td>Shang-Chi and the Legend of the Ten Rings</td>\n",
              "      <td>2021</td>\n",
              "      <td>10359.702</td>\n",
              "      <td>[28, 12, 14]</td>\n",
              "    </tr>\n",
              "    <tr>\n",
              "      <th>1</th>\n",
              "      <td>304033</td>\n",
              "      <td>370172</td>\n",
              "      <td>No Time to Die</td>\n",
              "      <td>2021</td>\n",
              "      <td>5130.748</td>\n",
              "      <td>[12, 28, 53]</td>\n",
              "    </tr>\n",
              "    <tr>\n",
              "      <th>2</th>\n",
              "      <td>304034</td>\n",
              "      <td>580489</td>\n",
              "      <td>Venom: Let There Be Carnage</td>\n",
              "      <td>2021</td>\n",
              "      <td>4144.219</td>\n",
              "      <td>[878, 28, 12]</td>\n",
              "    </tr>\n",
              "    <tr>\n",
              "      <th>3</th>\n",
              "      <td>304035</td>\n",
              "      <td>522402</td>\n",
              "      <td>Finch</td>\n",
              "      <td>2021</td>\n",
              "      <td>3642.038</td>\n",
              "      <td>[878, 18, 12]</td>\n",
              "    </tr>\n",
              "    <tr>\n",
              "      <th>4</th>\n",
              "      <td>304036</td>\n",
              "      <td>763164</td>\n",
              "      <td>Apex</td>\n",
              "      <td>2021</td>\n",
              "      <td>2915.735</td>\n",
              "      <td>[28, 53, 878]</td>\n",
              "    </tr>\n",
              "  </tbody>\n",
              "</table>\n",
              "</div>"
            ],
            "text/plain": [
              "   Unnamed: 0      Id  ... Popularity         Genres\n",
              "0      304032  566525  ...  10359.702   [28, 12, 14]\n",
              "1      304033  370172  ...   5130.748   [12, 28, 53]\n",
              "2      304034  580489  ...   4144.219  [878, 28, 12]\n",
              "3      304035  522402  ...   3642.038  [878, 18, 12]\n",
              "4      304036  763164  ...   2915.735  [28, 53, 878]\n",
              "\n",
              "[5 rows x 6 columns]"
            ]
          },
          "metadata": {},
          "execution_count": 7
        }
      ]
    },
    {
      "cell_type": "markdown",
      "metadata": {
        "id": "O9Z9UWUJLwBJ"
      },
      "source": [
        "Estructura de los datasets de informacion "
      ]
    },
    {
      "cell_type": "code",
      "metadata": {
        "colab": {
          "base_uri": "https://localhost:8080/",
          "height": 206
        },
        "id": "7g9Vq55kaewn",
        "outputId": "9b90b10d-8562-44e7-b69a-179c8a47221a"
      },
      "source": [
        "credits_df.head()"
      ],
      "execution_count": null,
      "outputs": [
        {
          "output_type": "execute_result",
          "data": {
            "text/html": [
              "<div>\n",
              "<style scoped>\n",
              "    .dataframe tbody tr th:only-of-type {\n",
              "        vertical-align: middle;\n",
              "    }\n",
              "\n",
              "    .dataframe tbody tr th {\n",
              "        vertical-align: top;\n",
              "    }\n",
              "\n",
              "    .dataframe thead th {\n",
              "        text-align: right;\n",
              "    }\n",
              "</style>\n",
              "<table border=\"1\" class=\"dataframe\">\n",
              "  <thead>\n",
              "    <tr style=\"text-align: right;\">\n",
              "      <th></th>\n",
              "      <th>Unnamed: 0</th>\n",
              "      <th>Id</th>\n",
              "      <th>Cast</th>\n",
              "      <th>Directors</th>\n",
              "    </tr>\n",
              "  </thead>\n",
              "  <tbody>\n",
              "    <tr>\n",
              "      <th>0</th>\n",
              "      <td>0</td>\n",
              "      <td>566525</td>\n",
              "      <td>[1489211, 1337, 1625558, 2979464, 123701, 1620...</td>\n",
              "      <td>[134686, 1144604, 1740449, 2422821]</td>\n",
              "    </tr>\n",
              "    <tr>\n",
              "      <th>1</th>\n",
              "      <td>1</td>\n",
              "      <td>370172</td>\n",
              "      <td>[8784, 17838, 121529, 5469, 17064, 1360281, 20...</td>\n",
              "      <td>[87257]</td>\n",
              "    </tr>\n",
              "    <tr>\n",
              "      <th>2</th>\n",
              "      <td>2</td>\n",
              "      <td>580489</td>\n",
              "      <td>[2524, 57755, 1812, 2038, 81316, 1115, 2141479...</td>\n",
              "      <td>[1333, 5545, 15335, 1184487]</td>\n",
              "    </tr>\n",
              "    <tr>\n",
              "      <th>3</th>\n",
              "      <td>3</td>\n",
              "      <td>522402</td>\n",
              "      <td>[31, 572541, 1457107, 1151637, 1912057, 3308163]</td>\n",
              "      <td>[114404]</td>\n",
              "    </tr>\n",
              "    <tr>\n",
              "      <th>4</th>\n",
              "      <td>4</td>\n",
              "      <td>763164</td>\n",
              "      <td>[2203, 62, 77109, 203630, 63564, 1692990, 2725...</td>\n",
              "      <td>[2613318]</td>\n",
              "    </tr>\n",
              "  </tbody>\n",
              "</table>\n",
              "</div>"
            ],
            "text/plain": [
              "   Unnamed: 0  ...                            Directors\n",
              "0           0  ...  [134686, 1144604, 1740449, 2422821]\n",
              "1           1  ...                              [87257]\n",
              "2           2  ...         [1333, 5545, 15335, 1184487]\n",
              "3           3  ...                             [114404]\n",
              "4           4  ...                            [2613318]\n",
              "\n",
              "[5 rows x 4 columns]"
            ]
          },
          "metadata": {},
          "execution_count": 8
        }
      ]
    },
    {
      "cell_type": "markdown",
      "metadata": {
        "id": "hk_osWvWL5Lw"
      },
      "source": [
        "Realizamos el linkeo del dataset principal con el de creditos para obtener la informacion de cada pelicula"
      ]
    },
    {
      "cell_type": "code",
      "metadata": {
        "colab": {
          "base_uri": "https://localhost:8080/"
        },
        "id": "eXJSDbHybd5A",
        "outputId": "f98d3e76-3e18-4fa7-b2d5-d635f2ad1039"
      },
      "source": [
        "movie_50k_df['Id'].dtype, credits_df['Id'].dtype"
      ],
      "execution_count": null,
      "outputs": [
        {
          "output_type": "execute_result",
          "data": {
            "text/plain": [
              "(dtype('int64'), dtype('int64'))"
            ]
          },
          "metadata": {},
          "execution_count": 9
        }
      ]
    },
    {
      "cell_type": "code",
      "metadata": {
        "id": "0MG01boNbL1e"
      },
      "source": [
        "movies_and_credits_df = pd.merge(movie_50k_df, credits_df[['Id', 'Cast', 'Directors']], on=['Id'], how='left')"
      ],
      "execution_count": null,
      "outputs": []
    },
    {
      "cell_type": "code",
      "metadata": {
        "colab": {
          "base_uri": "https://localhost:8080/",
          "height": 310
        },
        "id": "DaHSMnxrbpYj",
        "outputId": "7bc6955e-d273-49fc-beb7-04bc0fbd1f31"
      },
      "source": [
        "movies_and_credits_df.head()"
      ],
      "execution_count": null,
      "outputs": [
        {
          "output_type": "execute_result",
          "data": {
            "text/html": [
              "<div>\n",
              "<style scoped>\n",
              "    .dataframe tbody tr th:only-of-type {\n",
              "        vertical-align: middle;\n",
              "    }\n",
              "\n",
              "    .dataframe tbody tr th {\n",
              "        vertical-align: top;\n",
              "    }\n",
              "\n",
              "    .dataframe thead th {\n",
              "        text-align: right;\n",
              "    }\n",
              "</style>\n",
              "<table border=\"1\" class=\"dataframe\">\n",
              "  <thead>\n",
              "    <tr style=\"text-align: right;\">\n",
              "      <th></th>\n",
              "      <th>Unnamed: 0</th>\n",
              "      <th>Id</th>\n",
              "      <th>Name</th>\n",
              "      <th>Year</th>\n",
              "      <th>Popularity</th>\n",
              "      <th>Genres</th>\n",
              "      <th>Cast</th>\n",
              "      <th>Directors</th>\n",
              "    </tr>\n",
              "  </thead>\n",
              "  <tbody>\n",
              "    <tr>\n",
              "      <th>0</th>\n",
              "      <td>304032</td>\n",
              "      <td>566525</td>\n",
              "      <td>Shang-Chi and the Legend of the Ten Rings</td>\n",
              "      <td>2021</td>\n",
              "      <td>10359.702</td>\n",
              "      <td>[28, 12, 14]</td>\n",
              "      <td>[1489211, 1337, 1625558, 2979464, 123701, 1620...</td>\n",
              "      <td>[134686, 1144604, 1740449, 2422821]</td>\n",
              "    </tr>\n",
              "    <tr>\n",
              "      <th>1</th>\n",
              "      <td>304033</td>\n",
              "      <td>370172</td>\n",
              "      <td>No Time to Die</td>\n",
              "      <td>2021</td>\n",
              "      <td>5130.748</td>\n",
              "      <td>[12, 28, 53]</td>\n",
              "      <td>[8784, 17838, 121529, 5469, 17064, 1360281, 20...</td>\n",
              "      <td>[87257]</td>\n",
              "    </tr>\n",
              "    <tr>\n",
              "      <th>2</th>\n",
              "      <td>304034</td>\n",
              "      <td>580489</td>\n",
              "      <td>Venom: Let There Be Carnage</td>\n",
              "      <td>2021</td>\n",
              "      <td>4144.219</td>\n",
              "      <td>[878, 28, 12]</td>\n",
              "      <td>[2524, 57755, 1812, 2038, 81316, 1115, 2141479...</td>\n",
              "      <td>[1333, 5545, 15335, 1184487]</td>\n",
              "    </tr>\n",
              "    <tr>\n",
              "      <th>3</th>\n",
              "      <td>304035</td>\n",
              "      <td>522402</td>\n",
              "      <td>Finch</td>\n",
              "      <td>2021</td>\n",
              "      <td>3642.038</td>\n",
              "      <td>[878, 18, 12]</td>\n",
              "      <td>[31, 572541, 1457107, 1151637, 1912057, 3308163]</td>\n",
              "      <td>[114404]</td>\n",
              "    </tr>\n",
              "    <tr>\n",
              "      <th>4</th>\n",
              "      <td>304036</td>\n",
              "      <td>763164</td>\n",
              "      <td>Apex</td>\n",
              "      <td>2021</td>\n",
              "      <td>2915.735</td>\n",
              "      <td>[28, 53, 878]</td>\n",
              "      <td>[2203, 62, 77109, 203630, 63564, 1692990, 2725...</td>\n",
              "      <td>[2613318]</td>\n",
              "    </tr>\n",
              "  </tbody>\n",
              "</table>\n",
              "</div>"
            ],
            "text/plain": [
              "   Unnamed: 0  ...                            Directors\n",
              "0      304032  ...  [134686, 1144604, 1740449, 2422821]\n",
              "1      304033  ...                              [87257]\n",
              "2      304034  ...         [1333, 5545, 15335, 1184487]\n",
              "3      304035  ...                             [114404]\n",
              "4      304036  ...                            [2613318]\n",
              "\n",
              "[5 rows x 8 columns]"
            ]
          },
          "metadata": {},
          "execution_count": 11
        }
      ]
    },
    {
      "cell_type": "code",
      "metadata": {
        "id": "y267dY2Wcp__"
      },
      "source": [
        "movies_and_credits_df = movies_and_credits_df.astype({'Genres': 'string', 'Cast': 'string', 'Directors': 'string'})"
      ],
      "execution_count": null,
      "outputs": []
    },
    {
      "cell_type": "code",
      "metadata": {
        "id": "m1b3mPlseWWr",
        "colab": {
          "base_uri": "https://localhost:8080/"
        },
        "outputId": "3f41feff-faca-42b4-a8e1-1a746124ed16"
      },
      "source": [
        "eval(movies_and_credits_df['Cast'].iloc[0])"
      ],
      "execution_count": null,
      "outputs": [
        {
          "output_type": "execute_result",
          "data": {
            "text/plain": [
              "[1489211,\n",
              " 1337,\n",
              " 1625558,\n",
              " 2979464,\n",
              " 123701,\n",
              " 1620,\n",
              " 57609,\n",
              " 2282,\n",
              " 1998541,\n",
              " 1068877,\n",
              " 3074780,\n",
              " 3201062,\n",
              " 3218942,\n",
              " 3216792,\n",
              " 1381186,\n",
              " 2422160,\n",
              " 10075,\n",
              " 44059,\n",
              " 1792920,\n",
              " 1319469,\n",
              " 20479,\n",
              " 2344691,\n",
              " 216782,\n",
              " 1535058,\n",
              " 1838225,\n",
              " 165214,\n",
              " 62421,\n",
              " 1691275,\n",
              " 2651594,\n",
              " 1920116,\n",
              " 23680,\n",
              " 30082,\n",
              " 3129,\n",
              " 103,\n",
              " 60073,\n",
              " 3114744,\n",
              " 2535732,\n",
              " 1102421]"
            ]
          },
          "metadata": {},
          "execution_count": 13
        }
      ]
    },
    {
      "cell_type": "markdown",
      "metadata": {
        "id": "d8zAPwIEMJdj"
      },
      "source": [
        "Aqui asignamos los verdaderos valores de las columnas Cast, Directors y Genres a cada pelicula"
      ]
    },
    {
      "cell_type": "code",
      "metadata": {
        "id": "J1cgoRG3fgs-"
      },
      "source": [
        "for i in range(len(movies_and_credits_df)): \n",
        "  try: \n",
        "    this_cast = eval(str(movies_and_credits_df['Cast'].iloc[i]))\n",
        "    this_cast = cast_df[cast_df['Id'].isin(this_cast)].head(10)\n",
        "    this_cast = str(this_cast['Name'].values)\n",
        "    movies_and_credits_df['Cast'].iloc[i] = this_cast\n",
        "  except: \n",
        "    movies_and_credits_df['Cast'].iloc[i] = '[]'\n",
        "  try:\n",
        "    this_directors = eval(str(movies_and_credits_df['Directors'].iloc[i]))\n",
        "    this_directors = directors_df[directors_df['Id'].isin(this_directors)].head()\n",
        "    this_directors = str(this_directors['Name'].values)\n",
        "    movies_and_credits_df['Directors'].iloc[i] = this_directors\n",
        "  except: \n",
        "    movies_and_credits_df['Directors'].iloc[i] = '[]'\n",
        "  try:\n",
        "    this_genres = eval(str(movies_and_credits_df['Genres'].iloc[i]))\n",
        "    this_genres = genres_df[genres_df['Id'].isin(this_genres)].head()\n",
        "    this_genres = str(this_genres['name'].values)\n",
        "    movies_and_credits_df['Genres'].iloc[i] = this_genres\n",
        "  except: \n",
        "    movies_and_credits_df['Genres'].iloc[i] = '[]'"
      ],
      "execution_count": null,
      "outputs": []
    },
    {
      "cell_type": "code",
      "metadata": {
        "colab": {
          "base_uri": "https://localhost:8080/",
          "height": 164
        },
        "id": "dusH1xNsiAYx",
        "outputId": "0b566ab8-7eb6-4b53-d67b-92facd00d8e3"
      },
      "source": [
        "movies_and_credits_df.head(2)"
      ],
      "execution_count": null,
      "outputs": [
        {
          "output_type": "execute_result",
          "data": {
            "text/html": [
              "<div>\n",
              "<style scoped>\n",
              "    .dataframe tbody tr th:only-of-type {\n",
              "        vertical-align: middle;\n",
              "    }\n",
              "\n",
              "    .dataframe tbody tr th {\n",
              "        vertical-align: top;\n",
              "    }\n",
              "\n",
              "    .dataframe thead th {\n",
              "        text-align: right;\n",
              "    }\n",
              "</style>\n",
              "<table border=\"1\" class=\"dataframe\">\n",
              "  <thead>\n",
              "    <tr style=\"text-align: right;\">\n",
              "      <th></th>\n",
              "      <th>Unnamed: 0</th>\n",
              "      <th>Id</th>\n",
              "      <th>Name</th>\n",
              "      <th>Year</th>\n",
              "      <th>Popularity</th>\n",
              "      <th>Genres</th>\n",
              "      <th>Cast</th>\n",
              "      <th>Directors</th>\n",
              "    </tr>\n",
              "  </thead>\n",
              "  <tbody>\n",
              "    <tr>\n",
              "      <th>0</th>\n",
              "      <td>304032</td>\n",
              "      <td>566525</td>\n",
              "      <td>Shang-Chi and the Legend of the Ten Rings</td>\n",
              "      <td>2021</td>\n",
              "      <td>10359.702</td>\n",
              "      <td>['Action' 'Adventure' 'Fantasy']</td>\n",
              "      <td>['Tony Leung Chiu-wai' 'Awkwafina' 'Simu Liu' ...</td>\n",
              "      <td>['Destin Daniel Cretton']</td>\n",
              "    </tr>\n",
              "    <tr>\n",
              "      <th>1</th>\n",
              "      <td>304033</td>\n",
              "      <td>370172</td>\n",
              "      <td>No Time to Die</td>\n",
              "      <td>2021</td>\n",
              "      <td>5130.748</td>\n",
              "      <td>['Action' 'Adventure' 'Thriller']</td>\n",
              "      <td>['Ana de Armas' 'Léa Seydoux' 'Daniel Craig' '...</td>\n",
              "      <td>['Cary Joji Fukunaga']</td>\n",
              "    </tr>\n",
              "  </tbody>\n",
              "</table>\n",
              "</div>"
            ],
            "text/plain": [
              "   Unnamed: 0  ...                  Directors\n",
              "0      304032  ...  ['Destin Daniel Cretton']\n",
              "1      304033  ...     ['Cary Joji Fukunaga']\n",
              "\n",
              "[2 rows x 8 columns]"
            ]
          },
          "metadata": {},
          "execution_count": 15
        }
      ]
    },
    {
      "cell_type": "code",
      "metadata": {
        "colab": {
          "base_uri": "https://localhost:8080/"
        },
        "id": "UvZELrHcvfqR",
        "outputId": "badb705b-1635-4e83-d737-087936cab9c2"
      },
      "source": [
        "movies_and_credits_df.columns"
      ],
      "execution_count": null,
      "outputs": [
        {
          "output_type": "execute_result",
          "data": {
            "text/plain": [
              "Index(['Unnamed: 0', 'Id', 'Name', 'Year', 'Popularity', 'Genres', 'Cast',\n",
              "       'Directors'],\n",
              "      dtype='object')"
            ]
          },
          "metadata": {},
          "execution_count": 16
        }
      ]
    },
    {
      "cell_type": "markdown",
      "metadata": {
        "id": "rzUDH3BaMWG-"
      },
      "source": [
        "Entonces, juntaremos estas columnas en una sola donde se almacenaran los valores principales de cada pelicula"
      ]
    },
    {
      "cell_type": "code",
      "metadata": {
        "id": "ypCarRTIv65n"
      },
      "source": [
        "def combined_features(row): \n",
        "  combined_features = str(row['Genres']) + ' ' + str(row['Cast']) + ' ' + str(row['Directors']) + ' ' + str(row['Year'])\n",
        "  return combined_features"
      ],
      "execution_count": null,
      "outputs": []
    },
    {
      "cell_type": "code",
      "metadata": {
        "id": "ZQ2h2a4lxGy_"
      },
      "source": [
        "movies_and_credits_df['combined_features'] = movies_and_credits_df.apply(combined_features, axis=1)"
      ],
      "execution_count": null,
      "outputs": []
    },
    {
      "cell_type": "code",
      "metadata": {
        "id": "ASl8neOqyEQm"
      },
      "source": [
        "movies_and_credits_df['combined_features'] = movies_and_credits_df['combined_features'].astype(str)"
      ],
      "execution_count": null,
      "outputs": []
    },
    {
      "cell_type": "code",
      "metadata": {
        "id": "A9Z2W56TyX-Y"
      },
      "source": [
        "movies_and_credits_df['combined_features'] = movies_and_credits_df['combined_features'].str.replace('[', '')\n",
        "movies_and_credits_df['combined_features'] = movies_and_credits_df['combined_features'].str.replace(']', '')\n",
        "movies_and_credits_df['combined_features'] = movies_and_credits_df['combined_features'].str.replace('\\'', '')\n",
        "movies_and_credits_df['combined_features'] = movies_and_credits_df['combined_features'].str.replace('\\n', '', regex=True)"
      ],
      "execution_count": null,
      "outputs": []
    },
    {
      "cell_type": "code",
      "metadata": {
        "colab": {
          "base_uri": "https://localhost:8080/",
          "height": 310
        },
        "id": "Y1W3NY1l3Bcp",
        "outputId": "8fb2a523-a25e-49dc-f060-b7b5251d82ef"
      },
      "source": [
        "movies_and_credits_df.head()"
      ],
      "execution_count": null,
      "outputs": [
        {
          "output_type": "execute_result",
          "data": {
            "text/html": [
              "<div>\n",
              "<style scoped>\n",
              "    .dataframe tbody tr th:only-of-type {\n",
              "        vertical-align: middle;\n",
              "    }\n",
              "\n",
              "    .dataframe tbody tr th {\n",
              "        vertical-align: top;\n",
              "    }\n",
              "\n",
              "    .dataframe thead th {\n",
              "        text-align: right;\n",
              "    }\n",
              "</style>\n",
              "<table border=\"1\" class=\"dataframe\">\n",
              "  <thead>\n",
              "    <tr style=\"text-align: right;\">\n",
              "      <th></th>\n",
              "      <th>Unnamed: 0</th>\n",
              "      <th>Id</th>\n",
              "      <th>Name</th>\n",
              "      <th>Year</th>\n",
              "      <th>Popularity</th>\n",
              "      <th>Genres</th>\n",
              "      <th>Cast</th>\n",
              "      <th>Directors</th>\n",
              "      <th>combined_features</th>\n",
              "    </tr>\n",
              "  </thead>\n",
              "  <tbody>\n",
              "    <tr>\n",
              "      <th>0</th>\n",
              "      <td>304032</td>\n",
              "      <td>566525</td>\n",
              "      <td>Shang-Chi and the Legend of the Ten Rings</td>\n",
              "      <td>2021</td>\n",
              "      <td>10359.702</td>\n",
              "      <td>['Action' 'Adventure' 'Fantasy']</td>\n",
              "      <td>['Tony Leung Chiu-wai' 'Awkwafina' 'Simu Liu' ...</td>\n",
              "      <td>['Destin Daniel Cretton']</td>\n",
              "      <td>Action Adventure Fantasy Tony Leung Chiu-wai A...</td>\n",
              "    </tr>\n",
              "    <tr>\n",
              "      <th>1</th>\n",
              "      <td>304033</td>\n",
              "      <td>370172</td>\n",
              "      <td>No Time to Die</td>\n",
              "      <td>2021</td>\n",
              "      <td>5130.748</td>\n",
              "      <td>['Action' 'Adventure' 'Thriller']</td>\n",
              "      <td>['Ana de Armas' 'Léa Seydoux' 'Daniel Craig' '...</td>\n",
              "      <td>['Cary Joji Fukunaga']</td>\n",
              "      <td>Action Adventure Thriller Ana de Armas Léa Sey...</td>\n",
              "    </tr>\n",
              "    <tr>\n",
              "      <th>2</th>\n",
              "      <td>304034</td>\n",
              "      <td>580489</td>\n",
              "      <td>Venom: Let There Be Carnage</td>\n",
              "      <td>2021</td>\n",
              "      <td>4144.219</td>\n",
              "      <td>['Action' 'Adventure' 'Science Fiction']</td>\n",
              "      <td>['Tom Holland' 'Tom Hardy' 'Woody Harrelson' '...</td>\n",
              "      <td>[]</td>\n",
              "      <td>Action Adventure Science Fiction Tom Holland T...</td>\n",
              "    </tr>\n",
              "    <tr>\n",
              "      <th>3</th>\n",
              "      <td>304035</td>\n",
              "      <td>522402</td>\n",
              "      <td>Finch</td>\n",
              "      <td>2021</td>\n",
              "      <td>3642.038</td>\n",
              "      <td>['Adventure' 'Drama' 'Science Fiction']</td>\n",
              "      <td>['Tom Hanks' 'Lora Martinez-Cunningham' 'Caleb...</td>\n",
              "      <td>[]</td>\n",
              "      <td>Adventure Drama Science Fiction Tom Hanks Lora...</td>\n",
              "    </tr>\n",
              "    <tr>\n",
              "      <th>4</th>\n",
              "      <td>304036</td>\n",
              "      <td>763164</td>\n",
              "      <td>Apex</td>\n",
              "      <td>2021</td>\n",
              "      <td>2915.735</td>\n",
              "      <td>['Action' 'Science Fiction' 'Thriller']</td>\n",
              "      <td>['Bruce Willis' 'Lochlyn Munro' 'Neal McDonoug...</td>\n",
              "      <td>[]</td>\n",
              "      <td>Action Science Fiction Thriller Bruce Willis L...</td>\n",
              "    </tr>\n",
              "  </tbody>\n",
              "</table>\n",
              "</div>"
            ],
            "text/plain": [
              "   Unnamed: 0  ...                                  combined_features\n",
              "0      304032  ...  Action Adventure Fantasy Tony Leung Chiu-wai A...\n",
              "1      304033  ...  Action Adventure Thriller Ana de Armas Léa Sey...\n",
              "2      304034  ...  Action Adventure Science Fiction Tom Holland T...\n",
              "3      304035  ...  Adventure Drama Science Fiction Tom Hanks Lora...\n",
              "4      304036  ...  Action Science Fiction Thriller Bruce Willis L...\n",
              "\n",
              "[5 rows x 9 columns]"
            ]
          },
          "metadata": {},
          "execution_count": 21
        }
      ]
    },
    {
      "cell_type": "markdown",
      "metadata": {
        "id": "Ilw_yDMzM8rg"
      },
      "source": [
        "Reducimos la dimensionalidad de nuestro dataset por cuestiones de costo computacional"
      ]
    },
    {
      "cell_type": "code",
      "metadata": {
        "id": "WqTaCUzikCdb"
      },
      "source": [
        "movies_and_credits_df = movies_and_credits_df.iloc[:30000]"
      ],
      "execution_count": null,
      "outputs": []
    },
    {
      "cell_type": "code",
      "metadata": {
        "colab": {
          "base_uri": "https://localhost:8080/"
        },
        "id": "1iGVpD7Bv23l",
        "outputId": "b22b6110-838d-4f02-8aac-4d875fe4c97a"
      },
      "source": [
        "movies_and_credits_df.shape"
      ],
      "execution_count": null,
      "outputs": [
        {
          "output_type": "execute_result",
          "data": {
            "text/plain": [
              "(30000, 9)"
            ]
          },
          "metadata": {},
          "execution_count": 23
        }
      ]
    },
    {
      "cell_type": "markdown",
      "metadata": {
        "id": "Lz3qTIqLKDPV"
      },
      "source": [
        "### Aplicación del modelo"
      ]
    },
    {
      "cell_type": "markdown",
      "metadata": {
        "id": "8jrJp1FDNUu_"
      },
      "source": [
        "Para nuestro modelo utilizaremos CountVectorizer para aprender la informacion principal de nuestras peliculas y cosine_similarity para calcular la similaridad entre peliculas. "
      ]
    },
    {
      "cell_type": "code",
      "metadata": {
        "id": "eQ2f43mCx0Ua"
      },
      "source": [
        "from sklearn.feature_extraction.text import CountVectorizer\n",
        "from sklearn.metrics.pairwise import cosine_similarity"
      ],
      "execution_count": null,
      "outputs": []
    },
    {
      "cell_type": "code",
      "metadata": {
        "id": "YbAARF9b06vb"
      },
      "source": [
        "cv = CountVectorizer()\n",
        "count_matrix = cv.fit_transform(movies_and_credits_df['combined_features'])"
      ],
      "execution_count": null,
      "outputs": []
    },
    {
      "cell_type": "code",
      "metadata": {
        "id": "HcfQ1gps1XCp"
      },
      "source": [
        "cosine_sim = cosine_similarity(count_matrix)"
      ],
      "execution_count": null,
      "outputs": []
    },
    {
      "cell_type": "code",
      "metadata": {
        "colab": {
          "base_uri": "https://localhost:8080/"
        },
        "id": "CjFJvwiVktUF",
        "outputId": "55ef3227-a24b-4408-cc4f-06530dade304"
      },
      "source": [
        "cosine_sim.shape"
      ],
      "execution_count": null,
      "outputs": [
        {
          "output_type": "execute_result",
          "data": {
            "text/plain": [
              "(30000, 30000)"
            ]
          },
          "metadata": {},
          "execution_count": 27
        }
      ]
    },
    {
      "cell_type": "markdown",
      "metadata": {
        "id": "fRBg7klYKR4j"
      },
      "source": [
        "### Prueba de rendimiento"
      ]
    },
    {
      "cell_type": "markdown",
      "metadata": {
        "id": "2p-Dej5cNzDg"
      },
      "source": [
        "Para una pelicula al azar, tomamos su nombre e index para realizar una consulta en nuestra matriz de similaridad. "
      ]
    },
    {
      "cell_type": "code",
      "metadata": {
        "id": "KOIItCiok5A0"
      },
      "source": [
        "random_movie = movies_and_credits_df.sample(1)\n",
        "random_movie['Name'] = random_movie['Name'].astype('string')"
      ],
      "execution_count": null,
      "outputs": []
    },
    {
      "cell_type": "code",
      "metadata": {
        "colab": {
          "base_uri": "https://localhost:8080/",
          "height": 115
        },
        "id": "kyal3bEep8XF",
        "outputId": "d16fe53e-03bd-4b46-82ee-82610a197be9"
      },
      "source": [
        "random_movie"
      ],
      "execution_count": null,
      "outputs": [
        {
          "output_type": "execute_result",
          "data": {
            "text/html": [
              "<div>\n",
              "<style scoped>\n",
              "    .dataframe tbody tr th:only-of-type {\n",
              "        vertical-align: middle;\n",
              "    }\n",
              "\n",
              "    .dataframe tbody tr th {\n",
              "        vertical-align: top;\n",
              "    }\n",
              "\n",
              "    .dataframe thead th {\n",
              "        text-align: right;\n",
              "    }\n",
              "</style>\n",
              "<table border=\"1\" class=\"dataframe\">\n",
              "  <thead>\n",
              "    <tr style=\"text-align: right;\">\n",
              "      <th></th>\n",
              "      <th>Unnamed: 0</th>\n",
              "      <th>Id</th>\n",
              "      <th>Name</th>\n",
              "      <th>Year</th>\n",
              "      <th>Popularity</th>\n",
              "      <th>Genres</th>\n",
              "      <th>Cast</th>\n",
              "      <th>Directors</th>\n",
              "      <th>combined_features</th>\n",
              "    </tr>\n",
              "  </thead>\n",
              "  <tbody>\n",
              "    <tr>\n",
              "      <th>23767</th>\n",
              "      <td>245154</td>\n",
              "      <td>345170</td>\n",
              "      <td>Frank and Cindy</td>\n",
              "      <td>2015</td>\n",
              "      <td>4.751</td>\n",
              "      <td>['Comedy' 'Drama']</td>\n",
              "      <td>['Oliver Platt' 'Rene Russo' 'Jane Levy' 'John...</td>\n",
              "      <td>[]</td>\n",
              "      <td>Comedy Drama Oliver Platt Rene Russo Jane Levy...</td>\n",
              "    </tr>\n",
              "  </tbody>\n",
              "</table>\n",
              "</div>"
            ],
            "text/plain": [
              "       Unnamed: 0  ...                                  combined_features\n",
              "23767      245154  ...  Comedy Drama Oliver Platt Rene Russo Jane Levy...\n",
              "\n",
              "[1 rows x 9 columns]"
            ]
          },
          "metadata": {},
          "execution_count": 29
        }
      ]
    },
    {
      "cell_type": "code",
      "metadata": {
        "id": "e9ouChldlOf2"
      },
      "source": [
        "movie_user_likes = random_movie['Name'].values[0]\n",
        "movie_index = movies_and_credits_df[movies_and_credits_df['Name'] == movie_user_likes].index.values[0]\n",
        "similar_movies = list(enumerate(cosine_sim[movie_index]))\n",
        "sorted_similar_movies = sorted(similar_movies, key=lambda x:x[1], reverse=True)"
      ],
      "execution_count": null,
      "outputs": []
    },
    {
      "cell_type": "markdown",
      "metadata": {
        "id": "POjZH8CzODsu"
      },
      "source": [
        "Obtenemos una lista de las peliculas con mayor similaridad a nuestra pelicula elegida"
      ]
    },
    {
      "cell_type": "code",
      "metadata": {
        "colab": {
          "base_uri": "https://localhost:8080/"
        },
        "id": "Cyih1lFemhZc",
        "outputId": "716bc455-25e3-46e2-f94f-d6d2c46d3bee"
      },
      "source": [
        "sorted_similar_movies[:10]"
      ],
      "execution_count": null,
      "outputs": [
        {
          "output_type": "execute_result",
          "data": {
            "text/plain": [
              "[(23767, 0.9999999999999998),\n",
              " (11756, 0.4803844614152615),\n",
              " (15061, 0.4803844614152615),\n",
              " (15257, 0.4803844614152615),\n",
              " (15737, 0.4803844614152615),\n",
              " (21178, 0.4803844614152615),\n",
              " (26669, 0.4803844614152615),\n",
              " (27517, 0.4803844614152615),\n",
              " (27971, 0.4803844614152615),\n",
              " (28140, 0.4803844614152615)]"
            ]
          },
          "metadata": {},
          "execution_count": 33
        }
      ]
    },
    {
      "cell_type": "code",
      "metadata": {
        "colab": {
          "base_uri": "https://localhost:8080/"
        },
        "id": "gNVxl74znsY8",
        "outputId": "5b54cb95-4bf6-4f86-da23-7cf91f7896e9"
      },
      "source": [
        "i=0\n",
        "for movie in sorted_similar_movies:\n",
        "    print(movies_and_credits_df['Name'].iloc[movie[0]])\n",
        "    i=i+1\n",
        "    if i>5:\n",
        "        break"
      ],
      "execution_count": null,
      "outputs": [
        {
          "output_type": "stream",
          "name": "stdout",
          "text": [
            "Frank and Cindy\n",
            "Truman\n",
            "The Student and Mister Henri\n",
            "One for the Road\n",
            "Seoul Searching\n",
            "The Morning After\n"
          ]
        }
      ]
    }
  ]
}